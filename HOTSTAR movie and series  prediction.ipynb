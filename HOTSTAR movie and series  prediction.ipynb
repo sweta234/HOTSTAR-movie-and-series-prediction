{
 "cells": [
  {
   "cell_type": "code",
   "execution_count": 152,
   "id": "8fc8974a",
   "metadata": {},
   "outputs": [],
   "source": [
    "import numpy as np\n",
    "import pandas as pd\n"
   ]
  },
  {
   "cell_type": "code",
   "execution_count": 153,
   "id": "58086ec3",
   "metadata": {},
   "outputs": [],
   "source": [
    "df = pd.read_csv('hotstar.csv')"
   ]
  },
  {
   "cell_type": "code",
   "execution_count": 154,
   "id": "ff98efdf",
   "metadata": {},
   "outputs": [
    {
     "data": {
      "text/html": [
       "<div>\n",
       "<style scoped>\n",
       "    .dataframe tbody tr th:only-of-type {\n",
       "        vertical-align: middle;\n",
       "    }\n",
       "\n",
       "    .dataframe tbody tr th {\n",
       "        vertical-align: top;\n",
       "    }\n",
       "\n",
       "    .dataframe thead th {\n",
       "        text-align: right;\n",
       "    }\n",
       "</style>\n",
       "<table border=\"1\" class=\"dataframe\">\n",
       "  <thead>\n",
       "    <tr style=\"text-align: right;\">\n",
       "      <th></th>\n",
       "      <th>hotstar_id</th>\n",
       "      <th>title</th>\n",
       "      <th>description</th>\n",
       "      <th>genre</th>\n",
       "      <th>year</th>\n",
       "      <th>age_rating</th>\n",
       "      <th>running_time</th>\n",
       "      <th>seasons</th>\n",
       "      <th>episodes</th>\n",
       "      <th>type</th>\n",
       "    </tr>\n",
       "  </thead>\n",
       "  <tbody>\n",
       "    <tr>\n",
       "      <th>0</th>\n",
       "      <td>1835064133</td>\n",
       "      <td>The Ring</td>\n",
       "      <td>Mutually divorced Aman emotionally struggles t...</td>\n",
       "      <td>Drama</td>\n",
       "      <td>2021</td>\n",
       "      <td>U/A 13+</td>\n",
       "      <td>17.0</td>\n",
       "      <td>NaN</td>\n",
       "      <td>NaN</td>\n",
       "      <td>movie</td>\n",
       "    </tr>\n",
       "    <tr>\n",
       "      <th>1</th>\n",
       "      <td>1260015636</td>\n",
       "      <td>Jesus: Rise To Power And Birth Of Christianity</td>\n",
       "      <td>A journey across the historic landscapes of th...</td>\n",
       "      <td>Documentary</td>\n",
       "      <td>2019</td>\n",
       "      <td>U/A 13+</td>\n",
       "      <td>42.0</td>\n",
       "      <td>NaN</td>\n",
       "      <td>NaN</td>\n",
       "      <td>movie</td>\n",
       "    </tr>\n",
       "    <tr>\n",
       "      <th>2</th>\n",
       "      <td>1000070418</td>\n",
       "      <td>Yama Muduru</td>\n",
       "      <td>Krishna Kumar is popular in college for his mu...</td>\n",
       "      <td>Drama</td>\n",
       "      <td>2009</td>\n",
       "      <td>U/A 13+</td>\n",
       "      <td>129.0</td>\n",
       "      <td>NaN</td>\n",
       "      <td>NaN</td>\n",
       "      <td>movie</td>\n",
       "    </tr>\n",
       "    <tr>\n",
       "      <th>3</th>\n",
       "      <td>1770000804</td>\n",
       "      <td>X-Men: The Last Stand</td>\n",
       "      <td>When humans find a cure for mutation, Professo...</td>\n",
       "      <td>Superhero</td>\n",
       "      <td>2006</td>\n",
       "      <td>U/A 13+</td>\n",
       "      <td>103.0</td>\n",
       "      <td>NaN</td>\n",
       "      <td>NaN</td>\n",
       "      <td>movie</td>\n",
       "    </tr>\n",
       "    <tr>\n",
       "      <th>4</th>\n",
       "      <td>1770005017</td>\n",
       "      <td>Mangalyaan: India's Mission To Mars</td>\n",
       "      <td>In this special, watch the 650 million km jour...</td>\n",
       "      <td>Documentary</td>\n",
       "      <td>2017</td>\n",
       "      <td>U</td>\n",
       "      <td>44.0</td>\n",
       "      <td>NaN</td>\n",
       "      <td>NaN</td>\n",
       "      <td>movie</td>\n",
       "    </tr>\n",
       "    <tr>\n",
       "      <th>...</th>\n",
       "      <td>...</td>\n",
       "      <td>...</td>\n",
       "      <td>...</td>\n",
       "      <td>...</td>\n",
       "      <td>...</td>\n",
       "      <td>...</td>\n",
       "      <td>...</td>\n",
       "      <td>...</td>\n",
       "      <td>...</td>\n",
       "      <td>...</td>\n",
       "    </tr>\n",
       "    <tr>\n",
       "      <th>6354</th>\n",
       "      <td>18211</td>\n",
       "      <td>MS Dhoni - Reimagined Hindi</td>\n",
       "      <td>MS Dhoni's career reimagined, watch streaming ...</td>\n",
       "      <td>Sport</td>\n",
       "      <td>2018</td>\n",
       "      <td>U/A 13+</td>\n",
       "      <td>NaN</td>\n",
       "      <td>1.0</td>\n",
       "      <td>1.0</td>\n",
       "      <td>tv</td>\n",
       "    </tr>\n",
       "    <tr>\n",
       "      <th>6355</th>\n",
       "      <td>1260063600</td>\n",
       "      <td>Sasneham</td>\n",
       "      <td>An old-age home reunites past lovers Indira an...</td>\n",
       "      <td>Drama</td>\n",
       "      <td>2021</td>\n",
       "      <td>U/A 13+</td>\n",
       "      <td>NaN</td>\n",
       "      <td>1.0</td>\n",
       "      <td>345.0</td>\n",
       "      <td>tv</td>\n",
       "    </tr>\n",
       "    <tr>\n",
       "      <th>6356</th>\n",
       "      <td>1260071152</td>\n",
       "      <td>Bolo Ambe Maa Ki Jai</td>\n",
       "      <td>Narrated by Saptarishi, celebrate Navratri wit...</td>\n",
       "      <td>Mythology</td>\n",
       "      <td>2021</td>\n",
       "      <td>U/A 13+</td>\n",
       "      <td>NaN</td>\n",
       "      <td>1.0</td>\n",
       "      <td>5.0</td>\n",
       "      <td>tv</td>\n",
       "    </tr>\n",
       "    <tr>\n",
       "      <th>6357</th>\n",
       "      <td>1260002656</td>\n",
       "      <td>Ambi Ning Vaisaytho Specials</td>\n",
       "      <td>Catch all the fun, gossips, and anecdotes from...</td>\n",
       "      <td>Reality</td>\n",
       "      <td>2018</td>\n",
       "      <td>G</td>\n",
       "      <td>NaN</td>\n",
       "      <td>1.0</td>\n",
       "      <td>1.0</td>\n",
       "      <td>tv</td>\n",
       "    </tr>\n",
       "    <tr>\n",
       "      <th>6358</th>\n",
       "      <td>1260003179</td>\n",
       "      <td>Dil Toh Happy Hai Ji</td>\n",
       "      <td>Based in Amritsar, this is a joyful tale of fr...</td>\n",
       "      <td>Drama</td>\n",
       "      <td>2019</td>\n",
       "      <td>U/A 13+</td>\n",
       "      <td>NaN</td>\n",
       "      <td>1.0</td>\n",
       "      <td>148.0</td>\n",
       "      <td>tv</td>\n",
       "    </tr>\n",
       "  </tbody>\n",
       "</table>\n",
       "<p>6359 rows × 10 columns</p>\n",
       "</div>"
      ],
      "text/plain": [
       "      hotstar_id                                           title  \\\n",
       "0     1835064133                                        The Ring   \n",
       "1     1260015636  Jesus: Rise To Power And Birth Of Christianity   \n",
       "2     1000070418                                     Yama Muduru   \n",
       "3     1770000804                           X-Men: The Last Stand   \n",
       "4     1770005017             Mangalyaan: India's Mission To Mars   \n",
       "...          ...                                             ...   \n",
       "6354       18211                     MS Dhoni - Reimagined Hindi   \n",
       "6355  1260063600                                        Sasneham   \n",
       "6356  1260071152                            Bolo Ambe Maa Ki Jai   \n",
       "6357  1260002656                    Ambi Ning Vaisaytho Specials   \n",
       "6358  1260003179                            Dil Toh Happy Hai Ji   \n",
       "\n",
       "                                            description        genre  year  \\\n",
       "0     Mutually divorced Aman emotionally struggles t...        Drama  2021   \n",
       "1     A journey across the historic landscapes of th...  Documentary  2019   \n",
       "2     Krishna Kumar is popular in college for his mu...        Drama  2009   \n",
       "3     When humans find a cure for mutation, Professo...    Superhero  2006   \n",
       "4     In this special, watch the 650 million km jour...  Documentary  2017   \n",
       "...                                                 ...          ...   ...   \n",
       "6354  MS Dhoni's career reimagined, watch streaming ...        Sport  2018   \n",
       "6355  An old-age home reunites past lovers Indira an...        Drama  2021   \n",
       "6356  Narrated by Saptarishi, celebrate Navratri wit...    Mythology  2021   \n",
       "6357  Catch all the fun, gossips, and anecdotes from...      Reality  2018   \n",
       "6358  Based in Amritsar, this is a joyful tale of fr...        Drama  2019   \n",
       "\n",
       "     age_rating  running_time  seasons  episodes   type  \n",
       "0       U/A 13+          17.0      NaN       NaN  movie  \n",
       "1       U/A 13+          42.0      NaN       NaN  movie  \n",
       "2       U/A 13+         129.0      NaN       NaN  movie  \n",
       "3       U/A 13+         103.0      NaN       NaN  movie  \n",
       "4             U          44.0      NaN       NaN  movie  \n",
       "...         ...           ...      ...       ...    ...  \n",
       "6354    U/A 13+           NaN      1.0       1.0     tv  \n",
       "6355    U/A 13+           NaN      1.0     345.0     tv  \n",
       "6356    U/A 13+           NaN      1.0       5.0     tv  \n",
       "6357          G           NaN      1.0       1.0     tv  \n",
       "6358    U/A 13+           NaN      1.0     148.0     tv  \n",
       "\n",
       "[6359 rows x 10 columns]"
      ]
     },
     "execution_count": 154,
     "metadata": {},
     "output_type": "execute_result"
    }
   ],
   "source": [
    "df"
   ]
  },
  {
   "cell_type": "code",
   "execution_count": 155,
   "id": "653b9ba7",
   "metadata": {},
   "outputs": [
    {
     "name": "stdout",
     "output_type": "stream",
     "text": [
      "<class 'pandas.core.frame.DataFrame'>\n",
      "RangeIndex: 6359 entries, 0 to 6358\n",
      "Data columns (total 10 columns):\n",
      " #   Column        Non-Null Count  Dtype  \n",
      "---  ------        --------------  -----  \n",
      " 0   hotstar_id    6359 non-null   int64  \n",
      " 1   title         6359 non-null   object \n",
      " 2   description   6359 non-null   object \n",
      " 3   genre         6359 non-null   object \n",
      " 4   year          6359 non-null   int64  \n",
      " 5   age_rating    6359 non-null   object \n",
      " 6   running_time  4188 non-null   float64\n",
      " 7   seasons       2171 non-null   float64\n",
      " 8   episodes      2171 non-null   float64\n",
      " 9   type          6359 non-null   object \n",
      "dtypes: float64(3), int64(2), object(5)\n",
      "memory usage: 496.9+ KB\n"
     ]
    }
   ],
   "source": [
    "df.info()"
   ]
  },
  {
   "cell_type": "code",
   "execution_count": 156,
   "id": "4dec77be",
   "metadata": {},
   "outputs": [
    {
     "data": {
      "text/plain": [
       "126.11883924458775"
      ]
     },
     "execution_count": 156,
     "metadata": {},
     "output_type": "execute_result"
    }
   ],
   "source": [
    "df['episodes'].mean()"
   ]
  },
  {
   "cell_type": "code",
   "execution_count": 157,
   "id": "b2121195",
   "metadata": {},
   "outputs": [
    {
     "data": {
      "text/plain": [
       "2.7443574389682173"
      ]
     },
     "execution_count": 157,
     "metadata": {},
     "output_type": "execute_result"
    }
   ],
   "source": [
    "df['seasons'].mean()"
   ]
  },
  {
   "cell_type": "code",
   "execution_count": 158,
   "id": "827cd064",
   "metadata": {},
   "outputs": [
    {
     "data": {
      "text/plain": [
       "104.01647564469914"
      ]
     },
     "execution_count": 158,
     "metadata": {},
     "output_type": "execute_result"
    }
   ],
   "source": [
    "df['running_time'].mean()"
   ]
  },
  {
   "cell_type": "code",
   "execution_count": 159,
   "id": "a8b27d10",
   "metadata": {},
   "outputs": [
    {
     "data": {
      "text/plain": [
       "array([nan, 13.,  1.,  3.,  7.,  2., 10.,  5.,  4., 33.,  9.,  6.,  8.,\n",
       "       43., 18., 17., 23., 21., 16., 14., 28., 11., 12., 36., 53., 73.,\n",
       "       24., 27., 35., 22., 15., 19., 34., 45., 67., 20., 29., 25., 38.,\n",
       "       30., 31., 26.])"
      ]
     },
     "execution_count": 159,
     "metadata": {},
     "output_type": "execute_result"
    }
   ],
   "source": [
    "df['seasons'].unique()"
   ]
  },
  {
   "cell_type": "code",
   "execution_count": 160,
   "id": "1d213d2c",
   "metadata": {},
   "outputs": [
    {
     "data": {
      "text/plain": [
       "array([      nan, 7.580e+02, 3.020e+02, 5.700e+01, 6.500e+01, 2.000e+00,\n",
       "       6.000e+00, 3.000e+00, 5.200e+01, 3.600e+01, 1.000e+01, 3.200e+01,\n",
       "       1.000e+00, 2.070e+02, 4.210e+02, 9.080e+02, 8.400e+01, 7.000e+00,\n",
       "       4.800e+01, 6.800e+02, 1.423e+03, 4.300e+01, 1.020e+02, 2.600e+01,\n",
       "       9.600e+01, 4.150e+02, 4.700e+01, 2.000e+01, 4.160e+02, 5.300e+01,\n",
       "       5.000e+00, 1.130e+02, 3.310e+02, 1.900e+01, 7.000e+01, 4.400e+01,\n",
       "       8.000e+01, 8.000e+00, 4.000e+00, 1.500e+01, 1.200e+01, 1.800e+01,\n",
       "       4.470e+02, 3.900e+01, 1.400e+01, 1.800e+02, 6.200e+01, 3.260e+02,\n",
       "       2.400e+01, 5.600e+01, 1.390e+02, 6.640e+02, 3.700e+01, 1.600e+01,\n",
       "       9.000e+00, 2.080e+02, 3.880e+02, 2.800e+01, 9.800e+01, 2.100e+01,\n",
       "       6.900e+01, 2.500e+01, 1.810e+02, 1.724e+03, 1.470e+02, 3.800e+01,\n",
       "       3.400e+01, 2.140e+02, 3.320e+02, 1.300e+01, 6.700e+01, 9.350e+02,\n",
       "       6.300e+01, 3.820e+02, 1.060e+02, 8.600e+01, 9.700e+01, 1.090e+02,\n",
       "       3.970e+02, 2.830e+02, 1.700e+01, 9.360e+02, 1.760e+02, 5.630e+02,\n",
       "       4.180e+02, 1.580e+02, 2.100e+02, 5.180e+02, 1.340e+02, 4.610e+02,\n",
       "       9.850e+02, 1.550e+02, 1.500e+02, 1.100e+01, 1.300e+02, 4.370e+02,\n",
       "       8.900e+01, 2.800e+02, 9.000e+01, 3.790e+02, 2.970e+02, 2.410e+02,\n",
       "       3.500e+01, 3.300e+02, 4.090e+02, 6.400e+01, 1.850e+02, 3.740e+02,\n",
       "       4.000e+01, 8.490e+02, 7.900e+01, 7.600e+01, 2.200e+01, 8.300e+01,\n",
       "       2.750e+02, 2.720e+02, 7.800e+01, 1.230e+02, 4.500e+01, 4.500e+02,\n",
       "       8.240e+02, 3.000e+01, 3.420e+02, 1.170e+02, 6.000e+01, 5.580e+02,\n",
       "       2.890e+02, 3.750e+02, 2.680e+02, 2.900e+01, 7.500e+01, 1.040e+02,\n",
       "       5.800e+01, 7.100e+01, 1.700e+02, 2.550e+02, 2.790e+02, 4.100e+01,\n",
       "       3.490e+02, 5.500e+02, 2.690e+02, 5.000e+01, 3.340e+02, 3.100e+01,\n",
       "       1.190e+02, 9.900e+01, 2.180e+02, 1.680e+02, 2.510e+02, 1.780e+02,\n",
       "       6.100e+01, 5.900e+01, 5.420e+02, 4.550e+02, 1.980e+02, 6.360e+02,\n",
       "       1.250e+02, 9.920e+02, 6.000e+02, 5.500e+01, 6.320e+02, 1.320e+02,\n",
       "       2.170e+02, 2.670e+02, 5.150e+02, 3.800e+02, 5.800e+02, 1.750e+02,\n",
       "       9.400e+01, 7.700e+02, 5.710e+02, 7.300e+01, 5.100e+01, 5.400e+01,\n",
       "       1.491e+03, 4.910e+02, 4.440e+02, 9.100e+01, 2.420e+02, 2.700e+01,\n",
       "       4.030e+02, 4.200e+01, 4.380e+02, 4.430e+02, 3.580e+02, 1.110e+02,\n",
       "       1.920e+02, 1.055e+03, 2.050e+02, 5.260e+02, 8.800e+01, 2.260e+02,\n",
       "       7.200e+01, 1.330e+02, 7.300e+02, 5.950e+02, 1.880e+02, 1.560e+02,\n",
       "       1.670e+02, 8.050e+02, 4.600e+01, 5.480e+02, 5.430e+02, 1.740e+02,\n",
       "       7.870e+02, 8.200e+02, 2.490e+02, 1.640e+02, 7.310e+02, 4.250e+02,\n",
       "       7.450e+02, 1.360e+02, 2.310e+02, 4.810e+02, 2.650e+02, 1.226e+03,\n",
       "       1.490e+02, 1.350e+02, 2.300e+01, 7.220e+02, 7.810e+02, 2.354e+03,\n",
       "       1.200e+02, 3.070e+02, 1.570e+02, 5.340e+02, 2.930e+02, 8.200e+01,\n",
       "       3.570e+02, 2.090e+02, 6.820e+02, 1.600e+02, 4.140e+02, 1.960e+02,\n",
       "       9.310e+02, 8.340e+02, 1.180e+02, 3.610e+02, 3.770e+02, 1.520e+02,\n",
       "       2.780e+02, 8.700e+01, 1.450e+02, 2.030e+02, 3.470e+02, 3.830e+02,\n",
       "       2.560e+02, 2.710e+02, 8.060e+02, 1.050e+02, 1.030e+02, 4.130e+02,\n",
       "       6.550e+02, 4.200e+02, 6.780e+02, 5.220e+02, 3.590e+02, 1.010e+02,\n",
       "       4.490e+02, 4.900e+01, 1.150e+02, 7.750e+02, 3.560e+02, 1.510e+02,\n",
       "       5.900e+02, 1.270e+02, 1.100e+02, 3.300e+01, 2.570e+02, 5.810e+02,\n",
       "       1.790e+02, 3.370e+02, 4.020e+02, 1.460e+02, 6.570e+02, 2.220e+02,\n",
       "       1.009e+03, 3.510e+02, 2.330e+02, 6.300e+02, 6.630e+02, 9.180e+02,\n",
       "       4.700e+02, 1.840e+02, 5.370e+02, 1.019e+03, 2.480e+02, 1.070e+02,\n",
       "       7.390e+02, 1.660e+02, 6.330e+02, 3.080e+02, 3.700e+02, 1.120e+02,\n",
       "       3.780e+02, 4.670e+02, 2.210e+02, 4.260e+02, 5.240e+02, 1.770e+02,\n",
       "       1.208e+03, 2.840e+02, 7.520e+02, 9.200e+01, 2.540e+02, 5.000e+02,\n",
       "       1.820e+02, 1.444e+03, 2.620e+02, 1.260e+02, 6.610e+02, 4.950e+02,\n",
       "       1.507e+03, 1.590e+02, 6.800e+01, 1.153e+03, 3.670e+02, 3.050e+02,\n",
       "       1.210e+02, 6.620e+02, 3.120e+02, 2.120e+02, 5.730e+02, 1.000e+02,\n",
       "       3.130e+02, 2.360e+02, 6.180e+02, 2.770e+02, 2.010e+02, 2.980e+02,\n",
       "       1.034e+03, 5.160e+02, 7.850e+02, 1.370e+02, 1.290e+02, 4.340e+02,\n",
       "       4.000e+02, 3.060e+02, 7.930e+02, 3.550e+02, 1.527e+03, 1.970e+02,\n",
       "       1.128e+03, 2.400e+02, 2.110e+02, 7.270e+02, 1.944e+03, 3.792e+03,\n",
       "       1.940e+02, 1.143e+03, 1.930e+02, 2.640e+02, 1.440e+02, 1.379e+03,\n",
       "       2.580e+02, 1.950e+02, 2.460e+02, 3.890e+02, 1.610e+02, 8.100e+01,\n",
       "       3.100e+02, 1.246e+03, 2.880e+02, 5.290e+02, 2.440e+02, 1.540e+02,\n",
       "       1.380e+02, 1.895e+03, 3.430e+02, 3.940e+02, 7.650e+02, 6.500e+02,\n",
       "       4.420e+02, 7.050e+02, 2.290e+02, 4.570e+02, 6.370e+02, 4.320e+02,\n",
       "       8.040e+02, 1.220e+02, 5.200e+02, 2.520e+02, 9.390e+02, 1.310e+02,\n",
       "       4.080e+02, 5.110e+02, 6.060e+02, 7.210e+02, 8.540e+02, 1.420e+02,\n",
       "       3.900e+02, 5.070e+02, 1.730e+02, 1.833e+03, 1.860e+02, 9.250e+02,\n",
       "       2.920e+02, 1.830e+02, 5.830e+02, 2.370e+02, 8.500e+01, 4.050e+02,\n",
       "       5.970e+02, 1.164e+03, 3.160e+02, 2.730e+02, 2.630e+02, 2.160e+02,\n",
       "       3.360e+02, 1.870e+02, 2.350e+02, 8.220e+02, 9.500e+01, 5.250e+02,\n",
       "       5.080e+02, 7.400e+01, 6.270e+02, 7.120e+02, 7.720e+02, 2.200e+02,\n",
       "       2.740e+02, 8.010e+02, 4.060e+02, 1.910e+02, 5.590e+02, 1.410e+02,\n",
       "       5.390e+02, 2.530e+02, 7.670e+02, 1.314e+03, 4.760e+02, 2.000e+02,\n",
       "       6.310e+02, 3.410e+02, 1.406e+03, 3.520e+02, 5.040e+02, 7.830e+02,\n",
       "       3.840e+02, 1.240e+02, 3.240e+02, 4.770e+02, 1.013e+03, 1.450e+03,\n",
       "       6.400e+02, 1.080e+02, 1.650e+02, 8.590e+02, 5.600e+02, 4.680e+02,\n",
       "       9.500e+02, 1.139e+03, 4.690e+02, 2.230e+02, 1.318e+03, 1.618e+03,\n",
       "       3.110e+02, 5.880e+02, 9.610e+02, 1.173e+03, 5.870e+02, 2.810e+02,\n",
       "       5.860e+02, 2.380e+02, 7.140e+02, 4.460e+02, 1.430e+02, 9.010e+02,\n",
       "       2.450e+02, 1.160e+02, 5.670e+02, 1.900e+02, 2.060e+02, 2.732e+03,\n",
       "       2.150e+02, 1.163e+03, 7.620e+02, 5.010e+02, 9.380e+02, 6.810e+02,\n",
       "       3.450e+02, 1.480e+02])"
      ]
     },
     "execution_count": 160,
     "metadata": {},
     "output_type": "execute_result"
    }
   ],
   "source": [
    "df['episodes'].unique()"
   ]
  },
  {
   "cell_type": "code",
   "execution_count": 161,
   "id": "35939576",
   "metadata": {},
   "outputs": [
    {
     "name": "stderr",
     "output_type": "stream",
     "text": [
      "C:\\Users\\win10\\AppData\\Local\\Temp/ipykernel_18292/2952348812.py:1: FutureWarning: The default value of regex will change from True to False in a future version.\n",
      "  df['age_rating']=df['age_rating'].str.replace('U/A 13+','13')\n",
      "C:\\Users\\win10\\AppData\\Local\\Temp/ipykernel_18292/2952348812.py:2: FutureWarning: The default value of regex will change from True to False in a future version.\n",
      "  df['age_rating']=df['age_rating'].str.replace('U/A 7+','7')\n",
      "C:\\Users\\win10\\AppData\\Local\\Temp/ipykernel_18292/2952348812.py:3: FutureWarning: The default value of regex will change from True to False in a future version.\n",
      "  df['age_rating']=df['age_rating'].str.replace('U/A 16+','16')\n",
      "C:\\Users\\win10\\AppData\\Local\\Temp/ipykernel_18292/2952348812.py:4: FutureWarning: The default value of regex will change from True to False in a future version.\n",
      "  df['age_rating']=df['age_rating'].str.replace('12+','12')\n",
      "C:\\Users\\win10\\AppData\\Local\\Temp/ipykernel_18292/2952348812.py:5: FutureWarning: The default value of regex will change from True to False in a future version.\n",
      "  df['age_rating']=df['age_rating'].str.replace('15+','15')\n"
     ]
    }
   ],
   "source": [
    "df['age_rating']=df['age_rating'].str.replace('U/A 13+','13')\n",
    "df['age_rating']=df['age_rating'].str.replace('U/A 7+','7')\n",
    "df['age_rating']=df['age_rating'].str.replace('U/A 16+','16')\n",
    "df['age_rating']=df['age_rating'].str.replace('12+','12')\n",
    "df['age_rating']=df['age_rating'].str.replace('15+','15')\n"
   ]
  },
  {
   "cell_type": "code",
   "execution_count": 162,
   "id": "87cea72a",
   "metadata": {},
   "outputs": [
    {
     "data": {
      "text/plain": [
       "array(['13+', 'U', '7+', '16+', 'A', 'PG', 'G', '15+', 'Kannada',\n",
       "       'English', '12+', 'Star Sports Kannada 1', 'Telugu',\n",
       "       'Star Sports 1 Telugu', 'Marathi', 'Star Suvarna', 'Hindi',\n",
       "       'Star Sports 1 Marathi', 'Star Vijay', 'Star Sports 2', 'Tamil',\n",
       "       'Star Sports Hindi 1'], dtype=object)"
      ]
     },
     "execution_count": 162,
     "metadata": {},
     "output_type": "execute_result"
    }
   ],
   "source": [
    "df['age_rating'].unique()"
   ]
  },
  {
   "cell_type": "code",
   "execution_count": 163,
   "id": "e9118a7d",
   "metadata": {},
   "outputs": [],
   "source": [
    "df['episodes']=df['episodes'].fillna(df['episodes'].mode()[0])"
   ]
  },
  {
   "cell_type": "code",
   "execution_count": 164,
   "id": "c4ee79eb",
   "metadata": {},
   "outputs": [],
   "source": [
    "df['running_time']=df['running_time'].fillna(df['running_time'].mode()[0])"
   ]
  },
  {
   "cell_type": "code",
   "execution_count": 165,
   "id": "9130d888",
   "metadata": {},
   "outputs": [],
   "source": [
    "df['seasons']=df['seasons'].fillna(df['seasons'].mode()[0])"
   ]
  },
  {
   "cell_type": "code",
   "execution_count": 166,
   "id": "f79428aa",
   "metadata": {},
   "outputs": [
    {
     "name": "stdout",
     "output_type": "stream",
     "text": [
      "<class 'pandas.core.frame.DataFrame'>\n",
      "RangeIndex: 6359 entries, 0 to 6358\n",
      "Data columns (total 10 columns):\n",
      " #   Column        Non-Null Count  Dtype  \n",
      "---  ------        --------------  -----  \n",
      " 0   hotstar_id    6359 non-null   int64  \n",
      " 1   title         6359 non-null   object \n",
      " 2   description   6359 non-null   object \n",
      " 3   genre         6359 non-null   object \n",
      " 4   year          6359 non-null   int64  \n",
      " 5   age_rating    6359 non-null   object \n",
      " 6   running_time  6359 non-null   float64\n",
      " 7   seasons       6359 non-null   float64\n",
      " 8   episodes      6359 non-null   float64\n",
      " 9   type          6359 non-null   object \n",
      "dtypes: float64(3), int64(2), object(5)\n",
      "memory usage: 496.9+ KB\n"
     ]
    }
   ],
   "source": [
    "df.info()"
   ]
  },
  {
   "cell_type": "code",
   "execution_count": 167,
   "id": "9508a60f",
   "metadata": {},
   "outputs": [],
   "source": [
    "df.drop('title',axis =1, inplace = True)"
   ]
  },
  {
   "cell_type": "code",
   "execution_count": 168,
   "id": "db34619d",
   "metadata": {},
   "outputs": [],
   "source": [
    "df.drop('description',axis =1, inplace = True)"
   ]
  },
  {
   "cell_type": "code",
   "execution_count": 169,
   "id": "6fb676a9",
   "metadata": {},
   "outputs": [],
   "source": [
    "import matplotlib.pyplot as plt"
   ]
  },
  {
   "cell_type": "code",
   "execution_count": 170,
   "id": "ab6c2a0e",
   "metadata": {},
   "outputs": [],
   "source": [
    "import seaborn as sns"
   ]
  },
  {
   "cell_type": "code",
   "execution_count": 171,
   "id": "f4cf46b0",
   "metadata": {},
   "outputs": [
    {
     "data": {
      "text/plain": [
       "<seaborn.axisgrid.FacetGrid at 0x219c9ee1160>"
      ]
     },
     "execution_count": 171,
     "metadata": {},
     "output_type": "execute_result"
    },
    {
     "data": {
      "text/plain": [
       "<Figure size 1440x1440 with 0 Axes>"
      ]
     },
     "metadata": {},
     "output_type": "display_data"
    },
    {
     "data": {
      "image/png": "[encoded data removed]",
      "text/plain": [
       "<Figure size 360x360 with 1 Axes>"
      ]
     },
     "metadata": {
      "needs_background": "light"
     },
     "output_type": "display_data"
    }
   ],
   "source": [
    "plt.figure(figsize=(20,20))\n",
    "\n",
    "sns.catplot(x = 'type',y = 'genre', data = df)"
   ]
  },
  {
   "cell_type": "code",
   "execution_count": 172,
   "id": "f1c5238e",
   "metadata": {},
   "outputs": [],
   "source": [
    "gen = df['genre'].value_counts().index"
   ]
  },
  {
   "cell_type": "code",
   "execution_count": 173,
   "id": "8b98313c",
   "metadata": {},
   "outputs": [
    {
     "data": {
      "text/plain": [
       "Index(['Drama', 'Comedy', 'Romance', 'Action', 'Reality', 'Thriller', 'Family',\n",
       "       'Sport', 'Animation', 'Documentary', 'Animals & Nature', 'Kids',\n",
       "       'Horror', 'Crime', 'Talk Show', 'Mythology', 'Superhero',\n",
       "       'Standup Comedy', 'Adventure', 'Historical', 'Biopic',\n",
       "       'Science Fiction', 'Science', 'Teen', 'Awards', 'Mystery', 'Lifestyle',\n",
       "       'Musical', 'Concert Film', 'Shorts', 'Travel', 'Docudrama', 'Food',\n",
       "       'Fantasy', 'Kabaddi', 'Football'],\n",
       "      dtype='object')"
      ]
     },
     "execution_count": 173,
     "metadata": {},
     "output_type": "execute_result"
    }
   ],
   "source": [
    "gen"
   ]
  },
  {
   "cell_type": "code",
   "execution_count": 174,
   "id": "ab5ada6d",
   "metadata": {},
   "outputs": [
    {
     "data": {
      "text/plain": [
       "134.0    2253\n",
       "131.0      77\n",
       "133.0      74\n",
       "128.0      69\n",
       "126.0      66\n",
       "135.0      66\n",
       "129.0      66\n",
       "141.0      64\n",
       "127.0      63\n",
       "139.0      63\n",
       "Name: running_time, dtype: int64"
      ]
     },
     "execution_count": 174,
     "metadata": {},
     "output_type": "execute_result"
    }
   ],
   "source": [
    "df['running_time'].value_counts().head(10)"
   ]
  },
  {
   "cell_type": "code",
   "execution_count": 175,
   "id": "50c1bba7",
   "metadata": {},
   "outputs": [
    {
     "data": {
      "text/plain": [
       "13+        2598\n",
       "U          1062\n",
       "7+         1045\n",
       "16+         998\n",
       "A           271\n",
       "PG          252\n",
       "G            81\n",
       "12+          20\n",
       "15+           9\n",
       "English       6\n",
       "Name: age_rating, dtype: int64"
      ]
     },
     "execution_count": 175,
     "metadata": {},
     "output_type": "execute_result"
    }
   ],
   "source": [
    "df['age_rating'].value_counts().head(10)"
   ]
  },
  {
   "cell_type": "code",
   "execution_count": 176,
   "id": "52da01dd",
   "metadata": {},
   "outputs": [
    {
     "data": {
      "text/plain": [
       "2019    520\n",
       "2017    519\n",
       "2021    510\n",
       "2018    453\n",
       "2020    432\n",
       "2016    413\n",
       "2015    347\n",
       "2022    267\n",
       "2014    236\n",
       "2013    209\n",
       "Name: year, dtype: int64"
      ]
     },
     "execution_count": 176,
     "metadata": {},
     "output_type": "execute_result"
    }
   ],
   "source": [
    "  df['year'].value_counts().head(10)"
   ]
  },
  {
   "cell_type": "code",
   "execution_count": 177,
   "id": "7c25f3cb",
   "metadata": {},
   "outputs": [],
   "source": [
    "year = df['year'].value_counts().index"
   ]
  },
  {
   "cell_type": "code",
   "execution_count": 178,
   "id": "4a222f1d",
   "metadata": {},
   "outputs": [],
   "source": [
    "time = df['running_time'].value_counts().head(10)"
   ]
  },
  {
   "cell_type": "code",
   "execution_count": 179,
   "id": "f1d9b452",
   "metadata": {},
   "outputs": [
    {
     "data": {
      "text/plain": [
       "134.0    2253\n",
       "131.0      77\n",
       "133.0      74\n",
       "128.0      69\n",
       "126.0      66\n",
       "135.0      66\n",
       "129.0      66\n",
       "141.0      64\n",
       "127.0      63\n",
       "139.0      63\n",
       "Name: running_time, dtype: int64"
      ]
     },
     "execution_count": 179,
     "metadata": {},
     "output_type": "execute_result"
    }
   ],
   "source": [
    "time"
   ]
  },
  {
   "cell_type": "code",
   "execution_count": 180,
   "id": "3ed4fca3",
   "metadata": {},
   "outputs": [
    {
     "data": {
      "text/plain": [
       "Float64Index([134.0, 131.0, 133.0, 128.0, 126.0, 135.0, 129.0, 141.0, 127.0,\n",
       "              139.0,\n",
       "              ...\n",
       "              194.0, 199.0,  66.0,  33.0, 183.0, 190.0, 173.0,  36.0, 188.0,\n",
       "              169.0],\n",
       "             dtype='float64', length=185)"
      ]
     },
     "execution_count": 180,
     "metadata": {},
     "output_type": "execute_result"
    }
   ],
   "source": [
    "df['running_time'].value_counts().index"
   ]
  },
  {
   "cell_type": "code",
   "execution_count": 181,
   "id": "fd4194bb",
   "metadata": {},
   "outputs": [],
   "source": [
    "lebels = list(gen)"
   ]
  },
  {
   "cell_type": "code",
   "execution_count": 182,
   "id": "3f9c651d",
   "metadata": {},
   "outputs": [],
   "source": [
    "d = lebels[:10]"
   ]
  },
  {
   "cell_type": "code",
   "execution_count": 183,
   "id": "e178d87b",
   "metadata": {},
   "outputs": [
    {
     "data": {
      "text/plain": [
       "['Drama',\n",
       " 'Comedy',\n",
       " 'Romance',\n",
       " 'Action',\n",
       " 'Reality',\n",
       " 'Thriller',\n",
       " 'Family',\n",
       " 'Sport',\n",
       " 'Animation',\n",
       " 'Documentary']"
      ]
     },
     "execution_count": 183,
     "metadata": {},
     "output_type": "execute_result"
    }
   ],
   "source": [
    "d"
   ]
  },
  {
   "cell_type": "code",
   "execution_count": 184,
   "id": "d0df08c4",
   "metadata": {},
   "outputs": [],
   "source": [
    "ti = time"
   ]
  },
  {
   "cell_type": "code",
   "execution_count": 185,
   "id": "af256f38",
   "metadata": {},
   "outputs": [
    {
     "data": {
      "text/plain": [
       "134.0    2253\n",
       "131.0      77\n",
       "133.0      74\n",
       "128.0      69\n",
       "126.0      66\n",
       "135.0      66\n",
       "129.0      66\n",
       "141.0      64\n",
       "127.0      63\n",
       "139.0      63\n",
       "Name: running_time, dtype: int64"
      ]
     },
     "execution_count": 185,
     "metadata": {},
     "output_type": "execute_result"
    }
   ],
   "source": [
    "ti"
   ]
  },
  {
   "cell_type": "code",
   "execution_count": 186,
   "id": "24660488",
   "metadata": {},
   "outputs": [
    {
     "data": {
      "text/plain": [
       "0    44\n",
       "dtype: int64"
      ]
     },
     "execution_count": 186,
     "metadata": {},
     "output_type": "execute_result"
    }
   ],
   "source": [
    "df['episodes'].value_counts().head(10).mode()"
   ]
  },
  {
   "cell_type": "code",
   "execution_count": 187,
   "id": "3c74c4d2",
   "metadata": {},
   "outputs": [
    {
     "name": "stderr",
     "output_type": "stream",
     "text": [
      "C:\\Users\\win10\\anaconda3\\lib\\site-packages\\seaborn\\_decorators.py:36: FutureWarning: Pass the following variables as keyword args: x, y. From version 0.12, the only valid positional argument will be `data`, and passing other arguments without an explicit keyword will result in an error or misinterpretation.\n",
      "  warnings.warn(\n"
     ]
    },
    {
     "data": {
      "text/plain": [
       "<AxesSubplot:xlabel='type', ylabel='running_time'>"
      ]
     },
     "execution_count": 187,
     "metadata": {},
     "output_type": "execute_result"
    },
    {
     "data": {
      "image/png": "[encoded data removed]",
      "text/plain": [
       "<Figure size 3600x3600 with 1 Axes>"
      ]
     },
     "metadata": {
      "needs_background": "light"
     },
     "output_type": "display_data"
    }
   ],
   "source": [
    "sns.barplot(df['type'], df['running_time'] )"
   ]
  },
  {
   "cell_type": "code",
   "execution_count": 188,
   "id": "39ea5bf8",
   "metadata": {},
   "outputs": [
    {
     "data": {
      "text/plain": [
       "<AxesSubplot:xlabel='running_time', ylabel='type'>"
      ]
     },
     "execution_count": 188,
     "metadata": {},
     "output_type": "execute_result"
    },
    {
     "data": {
      "image/png": "[encoded data removed]",
      "text/plain": [
       "<Figure size 1440x720 with 2 Axes>"
      ]
     },
     "metadata": {
      "needs_background": "light"
     },
     "output_type": "display_data"
    }
   ],
   "source": [
    "plt.figure(figsize=(20,10))\n",
    "\n",
    "sns.heatmap(pd.crosstab(df['type'], df['running_time']))"
   ]
  },
  {
   "cell_type": "code",
   "execution_count": 189,
   "id": "6d220d8a",
   "metadata": {},
   "outputs": [
    {
     "data": {
      "text/plain": [
       "<seaborn.axisgrid.FacetGrid at 0x219ca176760>"
      ]
     },
     "execution_count": 189,
     "metadata": {},
     "output_type": "execute_result"
    },
    {
     "data": {
      "image/png": "[encoded data removed]",
      "text/plain": [
       "<Figure size 360x360 with 1 Axes>"
      ]
     },
     "metadata": {
      "needs_background": "light"
     },
     "output_type": "display_data"
    }
   ],
   "source": [
    "import matplotlib\n",
    "\n",
    "matplotlib.rcParams['figure.figsize'] = (20, 10)\n",
    "\n",
    "sns.displot(df['running_time'])"
   ]
  },
  {
   "cell_type": "code",
   "execution_count": 190,
   "id": "616600cc",
   "metadata": {},
   "outputs": [
    {
     "data": {
      "text/plain": [
       "<seaborn.axisgrid.FacetGrid at 0x219c6acdc70>"
      ]
     },
     "execution_count": 190,
     "metadata": {},
     "output_type": "execute_result"
    },
    {
     "data": {
      "image/png": "[encoded data removed]",
      "text/plain": [
       "<Figure size 360x360 with 1 Axes>"
      ]
     },
     "metadata": {
      "needs_background": "light"
     },
     "output_type": "display_data"
    }
   ],
   "source": [
    "matplotlib.rcParams['figure.figsize'] = (50,50)\n",
    "#f.fig.set_dpi(100)\n",
    "sns.displot(df['age_rating'])\n",
    "#f.fig.set_dpi(100)\n"
   ]
  },
  {
   "cell_type": "code",
   "execution_count": 191,
   "id": "485ee276",
   "metadata": {},
   "outputs": [
    {
     "data": {
      "text/plain": [
       "<seaborn.axisgrid.FacetGrid at 0x219ca1f2580>"
      ]
     },
     "execution_count": 191,
     "metadata": {},
     "output_type": "execute_result"
    },
    {
     "data": {
      "text/plain": [
       "<Figure size 3600x2880 with 0 Axes>"
      ]
     },
     "metadata": {},
     "output_type": "display_data"
    },
    {
     "data": {
      "image/png": "[encoded data removed]",
      "text/plain": [
       "<Figure size 360x360 with 1 Axes>"
      ]
     },
     "metadata": {
      "needs_background": "light"
     },
     "output_type": "display_data"
    }
   ],
   "source": [
    "plt.figure(figsize=(50,40))\n",
    "\n",
    "sns.catplot(x = 'type',y ='genre', data = df)"
   ]
  },
  {
   "cell_type": "code",
   "execution_count": 192,
   "id": "cf6f0d72",
   "metadata": {},
   "outputs": [
    {
     "data": {
      "text/html": [
       "<div>\n",
       "<style scoped>\n",
       "    .dataframe tbody tr th:only-of-type {\n",
       "        vertical-align: middle;\n",
       "    }\n",
       "\n",
       "    .dataframe tbody tr th {\n",
       "        vertical-align: top;\n",
       "    }\n",
       "\n",
       "    .dataframe thead th {\n",
       "        text-align: right;\n",
       "    }\n",
       "</style>\n",
       "<table border=\"1\" class=\"dataframe\">\n",
       "  <thead>\n",
       "    <tr style=\"text-align: right;\">\n",
       "      <th></th>\n",
       "      <th>hotstar_id</th>\n",
       "      <th>year</th>\n",
       "      <th>running_time</th>\n",
       "      <th>seasons</th>\n",
       "      <th>episodes</th>\n",
       "    </tr>\n",
       "  </thead>\n",
       "  <tbody>\n",
       "    <tr>\n",
       "      <th>hotstar_id</th>\n",
       "      <td>1.000000</td>\n",
       "      <td>-0.015868</td>\n",
       "      <td>-0.372337</td>\n",
       "      <td>-0.360909</td>\n",
       "      <td>-0.329597</td>\n",
       "    </tr>\n",
       "    <tr>\n",
       "      <th>year</th>\n",
       "      <td>-0.015868</td>\n",
       "      <td>1.000000</td>\n",
       "      <td>-0.134352</td>\n",
       "      <td>0.034240</td>\n",
       "      <td>0.107535</td>\n",
       "    </tr>\n",
       "    <tr>\n",
       "      <th>running_time</th>\n",
       "      <td>-0.372337</td>\n",
       "      <td>-0.134352</td>\n",
       "      <td>1.000000</td>\n",
       "      <td>0.095840</td>\n",
       "      <td>0.132207</td>\n",
       "    </tr>\n",
       "    <tr>\n",
       "      <th>seasons</th>\n",
       "      <td>-0.360909</td>\n",
       "      <td>0.034240</td>\n",
       "      <td>0.095840</td>\n",
       "      <td>1.000000</td>\n",
       "      <td>0.724274</td>\n",
       "    </tr>\n",
       "    <tr>\n",
       "      <th>episodes</th>\n",
       "      <td>-0.329597</td>\n",
       "      <td>0.107535</td>\n",
       "      <td>0.132207</td>\n",
       "      <td>0.724274</td>\n",
       "      <td>1.000000</td>\n",
       "    </tr>\n",
       "  </tbody>\n",
       "</table>\n",
       "</div>"
      ],
      "text/plain": [
       "              hotstar_id      year  running_time   seasons  episodes\n",
       "hotstar_id      1.000000 -0.015868     -0.372337 -0.360909 -0.329597\n",
       "year           -0.015868  1.000000     -0.134352  0.034240  0.107535\n",
       "running_time   -0.372337 -0.134352      1.000000  0.095840  0.132207\n",
       "seasons        -0.360909  0.034240      0.095840  1.000000  0.724274\n",
       "episodes       -0.329597  0.107535      0.132207  0.724274  1.000000"
      ]
     },
     "execution_count": 192,
     "metadata": {},
     "output_type": "execute_result"
    }
   ],
   "source": [
    "df.corr()"
   ]
  },
  {
   "cell_type": "code",
   "execution_count": 193,
   "id": "6a074796",
   "metadata": {},
   "outputs": [
    {
     "data": {
      "text/plain": [
       "['Drama',\n",
       " 'Comedy',\n",
       " 'Romance',\n",
       " 'Action',\n",
       " 'Reality',\n",
       " 'Thriller',\n",
       " 'Family',\n",
       " 'Sport',\n",
       " 'Animation',\n",
       " 'Documentary']"
      ]
     },
     "execution_count": 193,
     "metadata": {},
     "output_type": "execute_result"
    }
   ],
   "source": [
    "d"
   ]
  },
  {
   "cell_type": "code",
   "execution_count": 194,
   "id": "e0aa4b59",
   "metadata": {},
   "outputs": [
    {
     "data": {
      "text/plain": [
       "134.0    2253\n",
       "131.0      77\n",
       "133.0      74\n",
       "128.0      69\n",
       "126.0      66\n",
       "135.0      66\n",
       "129.0      66\n",
       "141.0      64\n",
       "127.0      63\n",
       "139.0      63\n",
       "Name: running_time, dtype: int64"
      ]
     },
     "execution_count": 194,
     "metadata": {},
     "output_type": "execute_result"
    }
   ],
   "source": [
    "time"
   ]
  },
  {
   "cell_type": "code",
   "execution_count": 195,
   "id": "ec815980",
   "metadata": {},
   "outputs": [
    {
     "data": {
      "text/html": [
       "<div>\n",
       "<style scoped>\n",
       "    .dataframe tbody tr th:only-of-type {\n",
       "        vertical-align: middle;\n",
       "    }\n",
       "\n",
       "    .dataframe tbody tr th {\n",
       "        vertical-align: top;\n",
       "    }\n",
       "\n",
       "    .dataframe thead th {\n",
       "        text-align: right;\n",
       "    }\n",
       "</style>\n",
       "<table border=\"1\" class=\"dataframe\">\n",
       "  <thead>\n",
       "    <tr style=\"text-align: right;\">\n",
       "      <th>running_time</th>\n",
       "      <th>1.0</th>\n",
       "      <th>2.0</th>\n",
       "      <th>3.0</th>\n",
       "      <th>4.0</th>\n",
       "      <th>5.0</th>\n",
       "      <th>6.0</th>\n",
       "      <th>7.0</th>\n",
       "      <th>8.0</th>\n",
       "      <th>9.0</th>\n",
       "      <th>10.0</th>\n",
       "      <th>...</th>\n",
       "      <th>178.0</th>\n",
       "      <th>179.0</th>\n",
       "      <th>180.0</th>\n",
       "      <th>181.0</th>\n",
       "      <th>182.0</th>\n",
       "      <th>183.0</th>\n",
       "      <th>188.0</th>\n",
       "      <th>190.0</th>\n",
       "      <th>194.0</th>\n",
       "      <th>199.0</th>\n",
       "    </tr>\n",
       "    <tr>\n",
       "      <th>genre</th>\n",
       "      <th></th>\n",
       "      <th></th>\n",
       "      <th></th>\n",
       "      <th></th>\n",
       "      <th></th>\n",
       "      <th></th>\n",
       "      <th></th>\n",
       "      <th></th>\n",
       "      <th></th>\n",
       "      <th></th>\n",
       "      <th></th>\n",
       "      <th></th>\n",
       "      <th></th>\n",
       "      <th></th>\n",
       "      <th></th>\n",
       "      <th></th>\n",
       "      <th></th>\n",
       "      <th></th>\n",
       "      <th></th>\n",
       "      <th></th>\n",
       "      <th></th>\n",
       "    </tr>\n",
       "  </thead>\n",
       "  <tbody>\n",
       "    <tr>\n",
       "      <th>Action</th>\n",
       "      <td>1</td>\n",
       "      <td>1</td>\n",
       "      <td>0</td>\n",
       "      <td>0</td>\n",
       "      <td>0</td>\n",
       "      <td>0</td>\n",
       "      <td>0</td>\n",
       "      <td>0</td>\n",
       "      <td>0</td>\n",
       "      <td>1</td>\n",
       "      <td>...</td>\n",
       "      <td>1</td>\n",
       "      <td>0</td>\n",
       "      <td>0</td>\n",
       "      <td>0</td>\n",
       "      <td>1</td>\n",
       "      <td>0</td>\n",
       "      <td>0</td>\n",
       "      <td>1</td>\n",
       "      <td>0</td>\n",
       "      <td>0</td>\n",
       "    </tr>\n",
       "    <tr>\n",
       "      <th>Adventure</th>\n",
       "      <td>0</td>\n",
       "      <td>0</td>\n",
       "      <td>1</td>\n",
       "      <td>0</td>\n",
       "      <td>0</td>\n",
       "      <td>0</td>\n",
       "      <td>1</td>\n",
       "      <td>0</td>\n",
       "      <td>0</td>\n",
       "      <td>0</td>\n",
       "      <td>...</td>\n",
       "      <td>0</td>\n",
       "      <td>0</td>\n",
       "      <td>0</td>\n",
       "      <td>0</td>\n",
       "      <td>0</td>\n",
       "      <td>0</td>\n",
       "      <td>0</td>\n",
       "      <td>0</td>\n",
       "      <td>0</td>\n",
       "      <td>0</td>\n",
       "    </tr>\n",
       "    <tr>\n",
       "      <th>Animals &amp; Nature</th>\n",
       "      <td>1</td>\n",
       "      <td>0</td>\n",
       "      <td>0</td>\n",
       "      <td>0</td>\n",
       "      <td>0</td>\n",
       "      <td>0</td>\n",
       "      <td>0</td>\n",
       "      <td>0</td>\n",
       "      <td>0</td>\n",
       "      <td>0</td>\n",
       "      <td>...</td>\n",
       "      <td>0</td>\n",
       "      <td>0</td>\n",
       "      <td>0</td>\n",
       "      <td>0</td>\n",
       "      <td>0</td>\n",
       "      <td>0</td>\n",
       "      <td>0</td>\n",
       "      <td>0</td>\n",
       "      <td>0</td>\n",
       "      <td>0</td>\n",
       "    </tr>\n",
       "    <tr>\n",
       "      <th>Animation</th>\n",
       "      <td>1</td>\n",
       "      <td>5</td>\n",
       "      <td>11</td>\n",
       "      <td>4</td>\n",
       "      <td>7</td>\n",
       "      <td>7</td>\n",
       "      <td>11</td>\n",
       "      <td>5</td>\n",
       "      <td>0</td>\n",
       "      <td>0</td>\n",
       "      <td>...</td>\n",
       "      <td>0</td>\n",
       "      <td>0</td>\n",
       "      <td>2</td>\n",
       "      <td>1</td>\n",
       "      <td>0</td>\n",
       "      <td>0</td>\n",
       "      <td>0</td>\n",
       "      <td>0</td>\n",
       "      <td>0</td>\n",
       "      <td>0</td>\n",
       "    </tr>\n",
       "    <tr>\n",
       "      <th>Awards</th>\n",
       "      <td>0</td>\n",
       "      <td>0</td>\n",
       "      <td>0</td>\n",
       "      <td>0</td>\n",
       "      <td>0</td>\n",
       "      <td>0</td>\n",
       "      <td>0</td>\n",
       "      <td>0</td>\n",
       "      <td>0</td>\n",
       "      <td>0</td>\n",
       "      <td>...</td>\n",
       "      <td>0</td>\n",
       "      <td>0</td>\n",
       "      <td>0</td>\n",
       "      <td>0</td>\n",
       "      <td>0</td>\n",
       "      <td>0</td>\n",
       "      <td>0</td>\n",
       "      <td>0</td>\n",
       "      <td>0</td>\n",
       "      <td>0</td>\n",
       "    </tr>\n",
       "    <tr>\n",
       "      <th>Biopic</th>\n",
       "      <td>1</td>\n",
       "      <td>0</td>\n",
       "      <td>0</td>\n",
       "      <td>0</td>\n",
       "      <td>0</td>\n",
       "      <td>0</td>\n",
       "      <td>0</td>\n",
       "      <td>0</td>\n",
       "      <td>0</td>\n",
       "      <td>0</td>\n",
       "      <td>...</td>\n",
       "      <td>2</td>\n",
       "      <td>0</td>\n",
       "      <td>0</td>\n",
       "      <td>0</td>\n",
       "      <td>0</td>\n",
       "      <td>0</td>\n",
       "      <td>0</td>\n",
       "      <td>0</td>\n",
       "      <td>0</td>\n",
       "      <td>0</td>\n",
       "    </tr>\n",
       "    <tr>\n",
       "      <th>Comedy</th>\n",
       "      <td>0</td>\n",
       "      <td>2</td>\n",
       "      <td>2</td>\n",
       "      <td>3</td>\n",
       "      <td>4</td>\n",
       "      <td>2</td>\n",
       "      <td>2</td>\n",
       "      <td>1</td>\n",
       "      <td>0</td>\n",
       "      <td>2</td>\n",
       "      <td>...</td>\n",
       "      <td>0</td>\n",
       "      <td>1</td>\n",
       "      <td>1</td>\n",
       "      <td>0</td>\n",
       "      <td>0</td>\n",
       "      <td>0</td>\n",
       "      <td>0</td>\n",
       "      <td>0</td>\n",
       "      <td>0</td>\n",
       "      <td>0</td>\n",
       "    </tr>\n",
       "    <tr>\n",
       "      <th>Concert Film</th>\n",
       "      <td>0</td>\n",
       "      <td>0</td>\n",
       "      <td>0</td>\n",
       "      <td>0</td>\n",
       "      <td>0</td>\n",
       "      <td>0</td>\n",
       "      <td>0</td>\n",
       "      <td>0</td>\n",
       "      <td>0</td>\n",
       "      <td>0</td>\n",
       "      <td>...</td>\n",
       "      <td>0</td>\n",
       "      <td>0</td>\n",
       "      <td>0</td>\n",
       "      <td>0</td>\n",
       "      <td>0</td>\n",
       "      <td>0</td>\n",
       "      <td>0</td>\n",
       "      <td>0</td>\n",
       "      <td>0</td>\n",
       "      <td>0</td>\n",
       "    </tr>\n",
       "    <tr>\n",
       "      <th>Crime</th>\n",
       "      <td>1</td>\n",
       "      <td>0</td>\n",
       "      <td>0</td>\n",
       "      <td>0</td>\n",
       "      <td>0</td>\n",
       "      <td>0</td>\n",
       "      <td>0</td>\n",
       "      <td>0</td>\n",
       "      <td>0</td>\n",
       "      <td>1</td>\n",
       "      <td>...</td>\n",
       "      <td>0</td>\n",
       "      <td>0</td>\n",
       "      <td>0</td>\n",
       "      <td>0</td>\n",
       "      <td>0</td>\n",
       "      <td>0</td>\n",
       "      <td>0</td>\n",
       "      <td>0</td>\n",
       "      <td>0</td>\n",
       "      <td>0</td>\n",
       "    </tr>\n",
       "    <tr>\n",
       "      <th>Docudrama</th>\n",
       "      <td>0</td>\n",
       "      <td>0</td>\n",
       "      <td>0</td>\n",
       "      <td>0</td>\n",
       "      <td>0</td>\n",
       "      <td>0</td>\n",
       "      <td>0</td>\n",
       "      <td>0</td>\n",
       "      <td>0</td>\n",
       "      <td>0</td>\n",
       "      <td>...</td>\n",
       "      <td>0</td>\n",
       "      <td>0</td>\n",
       "      <td>0</td>\n",
       "      <td>0</td>\n",
       "      <td>0</td>\n",
       "      <td>0</td>\n",
       "      <td>0</td>\n",
       "      <td>0</td>\n",
       "      <td>0</td>\n",
       "      <td>0</td>\n",
       "    </tr>\n",
       "  </tbody>\n",
       "</table>\n",
       "<p>10 rows × 185 columns</p>\n",
       "</div>"
      ],
      "text/plain": [
       "running_time      1.0    2.0    3.0    4.0    5.0    6.0    7.0    8.0    \\\n",
       "genre                                                                      \n",
       "Action                1      1      0      0      0      0      0      0   \n",
       "Adventure             0      0      1      0      0      0      1      0   \n",
       "Animals & Nature      1      0      0      0      0      0      0      0   \n",
       "Animation             1      5     11      4      7      7     11      5   \n",
       "Awards                0      0      0      0      0      0      0      0   \n",
       "Biopic                1      0      0      0      0      0      0      0   \n",
       "Comedy                0      2      2      3      4      2      2      1   \n",
       "Concert Film          0      0      0      0      0      0      0      0   \n",
       "Crime                 1      0      0      0      0      0      0      0   \n",
       "Docudrama             0      0      0      0      0      0      0      0   \n",
       "\n",
       "running_time      9.0    10.0   ...  178.0  179.0  180.0  181.0  182.0  183.0  \\\n",
       "genre                           ...                                             \n",
       "Action                0      1  ...      1      0      0      0      1      0   \n",
       "Adventure             0      0  ...      0      0      0      0      0      0   \n",
       "Animals & Nature      0      0  ...      0      0      0      0      0      0   \n",
       "Animation             0      0  ...      0      0      2      1      0      0   \n",
       "Awards                0      0  ...      0      0      0      0      0      0   \n",
       "Biopic                0      0  ...      2      0      0      0      0      0   \n",
       "Comedy                0      2  ...      0      1      1      0      0      0   \n",
       "Concert Film          0      0  ...      0      0      0      0      0      0   \n",
       "Crime                 0      1  ...      0      0      0      0      0      0   \n",
       "Docudrama             0      0  ...      0      0      0      0      0      0   \n",
       "\n",
       "running_time      188.0  190.0  194.0  199.0  \n",
       "genre                                         \n",
       "Action                0      1      0      0  \n",
       "Adventure             0      0      0      0  \n",
       "Animals & Nature      0      0      0      0  \n",
       "Animation             0      0      0      0  \n",
       "Awards                0      0      0      0  \n",
       "Biopic                0      0      0      0  \n",
       "Comedy                0      0      0      0  \n",
       "Concert Film          0      0      0      0  \n",
       "Crime                 0      0      0      0  \n",
       "Docudrama             0      0      0      0  \n",
       "\n",
       "[10 rows x 185 columns]"
      ]
     },
     "execution_count": 195,
     "metadata": {},
     "output_type": "execute_result"
    }
   ],
   "source": [
    "gen_bar = pd.crosstab(df['genre'], df['running_time']).head(10)\n",
    "gen_bar"
   ]
  },
  {
   "cell_type": "code",
   "execution_count": 196,
   "id": "b5cacd00",
   "metadata": {},
   "outputs": [
    {
     "name": "stderr",
     "output_type": "stream",
     "text": [
      "C:\\Users\\win10\\anaconda3\\lib\\site-packages\\seaborn\\_decorators.py:36: FutureWarning: Pass the following variable as a keyword arg: x. From version 0.12, the only valid positional argument will be `data`, and passing other arguments without an explicit keyword will result in an error or misinterpretation.\n",
      "  warnings.warn(\n"
     ]
    },
    {
     "data": {
      "text/plain": [
       "<AxesSubplot:xlabel='running_time'>"
      ]
     },
     "execution_count": 196,
     "metadata": {},
     "output_type": "execute_result"
    },
    {
     "data": {
      "image/png": "[encoded data removed]",
      "text/plain": [
       "<Figure size 576x432 with 1 Axes>"
      ]
     },
     "metadata": {
      "needs_background": "light"
     },
     "output_type": "display_data"
    }
   ],
   "source": [
    "plt.figure(figsize=(8,6))\n",
    "\n",
    "sns.boxplot(df['running_time'])"
   ]
  },
  {
   "cell_type": "code",
   "execution_count": 197,
   "id": "83820660",
   "metadata": {},
   "outputs": [
    {
     "name": "stderr",
     "output_type": "stream",
     "text": [
      "C:\\Users\\win10\\anaconda3\\lib\\site-packages\\seaborn\\_decorators.py:36: FutureWarning: Pass the following variable as a keyword arg: x. From version 0.12, the only valid positional argument will be `data`, and passing other arguments without an explicit keyword will result in an error or misinterpretation.\n",
      "  warnings.warn(\n"
     ]
    },
    {
     "data": {
      "text/plain": [
       "<AxesSubplot:xlabel='running_time', ylabel='count'>"
      ]
     },
     "execution_count": 197,
     "metadata": {},
     "output_type": "execute_result"
    },
    {
     "data": {
      "image/png": "[encoded data removed]",
      "text/plain": [
       "<Figure size 1872x1440 with 1 Axes>"
      ]
     },
     "metadata": {
      "needs_background": "light"
     },
     "output_type": "display_data"
    }
   ],
   "source": [
    "plt.figure(figsize=(26,20))\n",
    "sns.countplot(df['running_time'])\n"
   ]
  },
  {
   "cell_type": "code",
   "execution_count": 198,
   "id": "6ae4f07f",
   "metadata": {},
   "outputs": [
    {
     "data": {
      "text/plain": [
       "<AxesSubplot:ylabel='genre'>"
      ]
     },
     "execution_count": 198,
     "metadata": {},
     "output_type": "execute_result"
    },
    {
     "data": {
      "image/png": "[encoded data removed]",
      "text/plain": [
       "<Figure size 3600x3600 with 1 Axes>"
      ]
     },
     "metadata": {
      "needs_background": "light"
     },
     "output_type": "display_data"
    }
   ],
   "source": [
    "data=df['genre'].value_counts().sort_values(ascending=False)[:10]\n",
    "sns.barplot(x=data.index, y=data)"
   ]
  },
  {
   "cell_type": "code",
   "execution_count": 199,
   "id": "bf00a878",
   "metadata": {},
   "outputs": [
    {
     "data": {
      "text/plain": [
       "5    2124\n",
       "6    1761\n",
       "7    1063\n",
       "9     516\n",
       "8     316\n",
       "Name: genre, dtype: int64"
      ]
     },
     "execution_count": 199,
     "metadata": {},
     "output_type": "execute_result"
    }
   ],
   "source": [
    "df['genre'].apply(lambda x: len(x) if x!= {} else 0).value_counts().head()"
   ]
  },
  {
   "cell_type": "code",
   "execution_count": 200,
   "id": "cfb4b3c9",
   "metadata": {},
   "outputs": [],
   "source": [
    "listofgenre = list(df['genre'])"
   ]
  },
  {
   "cell_type": "code",
   "execution_count": 201,
   "id": "c185e9d7",
   "metadata": {},
   "outputs": [
    {
     "data": {
      "text/plain": [
       "<matplotlib.image.AxesImage at 0x219cc2abfd0>"
      ]
     },
     "execution_count": 201,
     "metadata": {},
     "output_type": "execute_result"
    },
    {
     "data": {
      "image/png": "[encoded data removed]",
      "text/plain": [
       "<Figure size 864x576 with 1 Axes>"
      ]
     },
     "metadata": {
      "needs_background": "light"
     },
     "output_type": "display_data"
    }
   ],
   "source": [
    "from wordcloud import WordCloud, STOPWORDS\n",
    "\n",
    "plt.figure(figsize = (12, 8))\n",
    "text = ' '.join([i for j in listofgenre for i in j])\n",
    "wordcloud = WordCloud(max_font_size=None, background_color='white', collocations=False,\n",
    "                      width=1200, height=1000).generate(text)\n",
    "plt.imshow(wordcloud)\n"
   ]
  },
  {
   "cell_type": "code",
   "execution_count": 202,
   "id": "6e896e6c",
   "metadata": {},
   "outputs": [],
   "source": [
    "from sklearn.preprocessing import LabelEncoder"
   ]
  },
  {
   "cell_type": "code",
   "execution_count": 203,
   "id": "9e2b4f71",
   "metadata": {},
   "outputs": [],
   "source": [
    "le_age_rating = LabelEncoder()\n"
   ]
  },
  {
   "cell_type": "code",
   "execution_count": 204,
   "id": "71a02055",
   "metadata": {},
   "outputs": [],
   "source": [
    "df['Isagerating_'] = le_age_rating.fit_transform(df['age_rating'])"
   ]
  },
  {
   "cell_type": "code",
   "execution_count": 205,
   "id": "6f0f6403",
   "metadata": {},
   "outputs": [],
   "source": [
    "df['Isgenre_'] = le_age_rating.fit_transform(df['genre'])"
   ]
  },
  {
   "cell_type": "code",
   "execution_count": 206,
   "id": "bf6c0d48",
   "metadata": {},
   "outputs": [
    {
     "data": {
      "text/plain": [
       "Index(['hotstar_id', 'genre', 'year', 'age_rating', 'running_time', 'seasons',\n",
       "       'episodes', 'type', 'Isagerating_', 'Isgenre_'],\n",
       "      dtype='object')"
      ]
     },
     "execution_count": 206,
     "metadata": {},
     "output_type": "execute_result"
    }
   ],
   "source": [
    "df.columns"
   ]
  },
  {
   "cell_type": "code",
   "execution_count": 207,
   "id": "cec447eb",
   "metadata": {},
   "outputs": [],
   "source": [
    "df.drop('genre',axis = 1 , inplace = True)"
   ]
  },
  {
   "cell_type": "code",
   "execution_count": 208,
   "id": "e42c99fd",
   "metadata": {},
   "outputs": [],
   "source": [
    "df.drop('hotstar_id', axis = 1 , inplace = True)"
   ]
  },
  {
   "cell_type": "code",
   "execution_count": 209,
   "id": "1888ee04",
   "metadata": {},
   "outputs": [
    {
     "name": "stdout",
     "output_type": "stream",
     "text": [
      "<class 'pandas.core.frame.DataFrame'>\n",
      "RangeIndex: 6359 entries, 0 to 6358\n",
      "Data columns (total 8 columns):\n",
      " #   Column        Non-Null Count  Dtype  \n",
      "---  ------        --------------  -----  \n",
      " 0   year          6359 non-null   int64  \n",
      " 1   age_rating    6359 non-null   object \n",
      " 2   running_time  6359 non-null   float64\n",
      " 3   seasons       6359 non-null   float64\n",
      " 4   episodes      6359 non-null   float64\n",
      " 5   type          6359 non-null   object \n",
      " 6   Isagerating_  6359 non-null   int32  \n",
      " 7   Isgenre_      6359 non-null   int32  \n",
      "dtypes: float64(3), int32(2), int64(1), object(2)\n",
      "memory usage: 347.9+ KB\n"
     ]
    }
   ],
   "source": [
    "df.info()"
   ]
  },
  {
   "cell_type": "code",
   "execution_count": 210,
   "id": "e64d84be",
   "metadata": {},
   "outputs": [],
   "source": [
    "df.drop('age_rating', axis = 1 ,inplace = True)"
   ]
  },
  {
   "cell_type": "code",
   "execution_count": 211,
   "id": "643a7a31",
   "metadata": {},
   "outputs": [],
   "source": [
    "from sklearn.model_selection import train_test_split"
   ]
  },
  {
   "cell_type": "code",
   "execution_count": 212,
   "id": "083dd373",
   "metadata": {},
   "outputs": [],
   "source": [
    "train =df.drop('type', axis = 1)\n",
    "test = df['type']\n"
   ]
  },
  {
   "cell_type": "code",
   "execution_count": 213,
   "id": "42e9ee19",
   "metadata": {},
   "outputs": [],
   "source": [
    "x_train, x_test, y_train, y_test = train_test_split(train, test, test_size = 0.19, random_state = 20)\n"
   ]
  },
  {
   "cell_type": "code",
   "execution_count": 214,
   "id": "9a2f5db3",
   "metadata": {},
   "outputs": [],
   "source": [
    "from sklearn.linear_model import LogisticRegression\n"
   ]
  },
  {
   "cell_type": "code",
   "execution_count": 215,
   "id": "40571163",
   "metadata": {},
   "outputs": [],
   "source": [
    "logreg = LogisticRegression()\n"
   ]
  },
  {
   "cell_type": "code",
   "execution_count": 216,
   "id": "91ccd0d7",
   "metadata": {},
   "outputs": [
    {
     "data": {
      "text/plain": [
       "LogisticRegression()"
      ]
     },
     "execution_count": 216,
     "metadata": {},
     "output_type": "execute_result"
    }
   ],
   "source": [
    "logreg.fit(x_train, y_train)\n"
   ]
  },
  {
   "cell_type": "code",
   "execution_count": 218,
   "id": "372778c5",
   "metadata": {},
   "outputs": [],
   "source": [
    "prediction = logreg.predict(x_test)\n"
   ]
  },
  {
   "cell_type": "code",
   "execution_count": 219,
   "id": "4ba93fe4",
   "metadata": {},
   "outputs": [],
   "source": [
    "from sklearn.metrics import accuracy_score\n"
   ]
  },
  {
   "cell_type": "code",
   "execution_count": 220,
   "id": "b20cc75d",
   "metadata": {},
   "outputs": [
    {
     "data": {
      "text/plain": [
       "0.9594706368899917"
      ]
     },
     "execution_count": 220,
     "metadata": {},
     "output_type": "execute_result"
    }
   ],
   "source": [
    "accuracy_score(y_test, prediction)\n"
   ]
  },
  {
   "cell_type": "code",
   "execution_count": null,
   "id": "b74a71fd",
   "metadata": {},
   "outputs": [],
   "source": []
  }
 ],
 "metadata": {
  "kernelspec": {
   "display_name": "Python 3 (ipykernel)",
   "language": "python",
   "name": "python3"
  },
  "language_info": {
   "codemirror_mode": {
    "name": "ipython",
    "version": 3
   },
   "file_extension": ".py",
   "mimetype": "text/x-python",
   "name": "python",
   "nbconvert_exporter": "python",
   "pygments_lexer": "ipython3",
   "version": "3.9.7"
  }
 },
 "nbformat": 4,
 "nbformat_minor": 5
}
